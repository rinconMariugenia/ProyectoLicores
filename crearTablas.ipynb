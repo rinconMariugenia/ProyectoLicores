{
 "cells": [
  {
   "cell_type": "code",
   "execution_count": 1,
   "metadata": {},
   "outputs": [
    {
     "name": "stdout",
     "output_type": "stream",
     "text": [
      "Requirement already satisfied: pandas in c:\\users\\mariu\\appdata\\local\\packages\\pythonsoftwarefoundation.python.3.11_qbz5n2kfra8p0\\localcache\\local-packages\\python311\\site-packages (2.0.3)\n",
      "Collecting pyodbc\n",
      "  Using cached pyodbc-5.2.0-cp311-cp311-win_amd64.whl.metadata (2.8 kB)\n",
      "Requirement already satisfied: python-dateutil>=2.8.2 in c:\\users\\mariu\\appdata\\local\\packages\\pythonsoftwarefoundation.python.3.11_qbz5n2kfra8p0\\localcache\\local-packages\\python311\\site-packages (from pandas) (2.8.2)\n",
      "Requirement already satisfied: pytz>=2020.1 in c:\\users\\mariu\\appdata\\local\\packages\\pythonsoftwarefoundation.python.3.11_qbz5n2kfra8p0\\localcache\\local-packages\\python311\\site-packages (from pandas) (2023.3)\n",
      "Requirement already satisfied: tzdata>=2022.1 in c:\\users\\mariu\\appdata\\local\\packages\\pythonsoftwarefoundation.python.3.11_qbz5n2kfra8p0\\localcache\\local-packages\\python311\\site-packages (from pandas) (2023.3)\n",
      "Requirement already satisfied: numpy>=1.21.0 in c:\\users\\mariu\\appdata\\local\\packages\\pythonsoftwarefoundation.python.3.11_qbz5n2kfra8p0\\localcache\\local-packages\\python311\\site-packages (from pandas) (1.25.2)\n",
      "Requirement already satisfied: six>=1.5 in c:\\users\\mariu\\appdata\\local\\packages\\pythonsoftwarefoundation.python.3.11_qbz5n2kfra8p0\\localcache\\local-packages\\python311\\site-packages (from python-dateutil>=2.8.2->pandas) (1.16.0)\n",
      "Using cached pyodbc-5.2.0-cp311-cp311-win_amd64.whl (68 kB)\n",
      "Installing collected packages: pyodbc\n",
      "Successfully installed pyodbc-5.2.0\n",
      "Note: you may need to restart the kernel to use updated packages.\n"
     ]
    },
    {
     "name": "stderr",
     "output_type": "stream",
     "text": [
      "\n",
      "[notice] A new release of pip is available: 24.0 -> 24.3.1\n",
      "[notice] To update, run: C:\\Users\\mariu\\AppData\\Local\\Microsoft\\WindowsApps\\PythonSoftwareFoundation.Python.3.11_qbz5n2kfra8p0\\python.exe -m pip install --upgrade pip\n"
     ]
    }
   ],
   "source": [
    "pip install pandas pyodbc"
   ]
  },
  {
   "cell_type": "code",
   "execution_count": 1,
   "metadata": {},
   "outputs": [],
   "source": [
    "import pandas as pd\n",
    "import pyodbc\n",
    "import numpy as np"
   ]
  },
  {
   "cell_type": "code",
   "execution_count": 2,
   "metadata": {},
   "outputs": [],
   "source": [
    "# Leer el archivo CSV\n",
    "dfPurchasePrices = pd.read_csv(\"2017PurchasePricesDec.csv\")"
   ]
  },
  {
   "cell_type": "code",
   "execution_count": 3,
   "metadata": {},
   "outputs": [
    {
     "data": {
      "text/html": [
       "<div>\n",
       "<style scoped>\n",
       "    .dataframe tbody tr th:only-of-type {\n",
       "        vertical-align: middle;\n",
       "    }\n",
       "\n",
       "    .dataframe tbody tr th {\n",
       "        vertical-align: top;\n",
       "    }\n",
       "\n",
       "    .dataframe thead th {\n",
       "        text-align: right;\n",
       "    }\n",
       "</style>\n",
       "<table border=\"1\" class=\"dataframe\">\n",
       "  <thead>\n",
       "    <tr style=\"text-align: right;\">\n",
       "      <th></th>\n",
       "      <th>Brand</th>\n",
       "      <th>Description</th>\n",
       "      <th>Price</th>\n",
       "      <th>Size</th>\n",
       "      <th>Volume</th>\n",
       "      <th>Classification</th>\n",
       "      <th>PurchasePrice</th>\n",
       "      <th>VendorNumber</th>\n",
       "      <th>VendorName</th>\n",
       "    </tr>\n",
       "  </thead>\n",
       "  <tbody>\n",
       "    <tr>\n",
       "      <th>0</th>\n",
       "      <td>58</td>\n",
       "      <td>Gekkeikan Black &amp; Gold Sake</td>\n",
       "      <td>12.99</td>\n",
       "      <td>750mL</td>\n",
       "      <td>750</td>\n",
       "      <td>1</td>\n",
       "      <td>9.28</td>\n",
       "      <td>8320</td>\n",
       "      <td>SHAW ROSS INT L IMP LTD</td>\n",
       "    </tr>\n",
       "    <tr>\n",
       "      <th>1</th>\n",
       "      <td>62</td>\n",
       "      <td>Herradura Silver Tequila</td>\n",
       "      <td>36.99</td>\n",
       "      <td>750mL</td>\n",
       "      <td>750</td>\n",
       "      <td>1</td>\n",
       "      <td>28.67</td>\n",
       "      <td>1128</td>\n",
       "      <td>BROWN-FORMAN CORP</td>\n",
       "    </tr>\n",
       "    <tr>\n",
       "      <th>2</th>\n",
       "      <td>63</td>\n",
       "      <td>Herradura Reposado Tequila</td>\n",
       "      <td>38.99</td>\n",
       "      <td>750mL</td>\n",
       "      <td>750</td>\n",
       "      <td>1</td>\n",
       "      <td>30.46</td>\n",
       "      <td>1128</td>\n",
       "      <td>BROWN-FORMAN CORP</td>\n",
       "    </tr>\n",
       "    <tr>\n",
       "      <th>3</th>\n",
       "      <td>72</td>\n",
       "      <td>No. 3 London Dry Gin</td>\n",
       "      <td>34.99</td>\n",
       "      <td>750mL</td>\n",
       "      <td>750</td>\n",
       "      <td>1</td>\n",
       "      <td>26.11</td>\n",
       "      <td>9165</td>\n",
       "      <td>ULTRA BEVERAGE COMPANY LLP</td>\n",
       "    </tr>\n",
       "    <tr>\n",
       "      <th>4</th>\n",
       "      <td>75</td>\n",
       "      <td>Three Olives Tomato Vodka</td>\n",
       "      <td>14.99</td>\n",
       "      <td>750mL</td>\n",
       "      <td>750</td>\n",
       "      <td>1</td>\n",
       "      <td>10.94</td>\n",
       "      <td>7245</td>\n",
       "      <td>PROXIMO SPIRITS INC.</td>\n",
       "    </tr>\n",
       "  </tbody>\n",
       "</table>\n",
       "</div>"
      ],
      "text/plain": [
       "   Brand                  Description  Price   Size Volume  Classification  \\\n",
       "0     58  Gekkeikan Black & Gold Sake  12.99  750mL    750               1   \n",
       "1     62     Herradura Silver Tequila  36.99  750mL    750               1   \n",
       "2     63   Herradura Reposado Tequila  38.99  750mL    750               1   \n",
       "3     72         No. 3 London Dry Gin  34.99  750mL    750               1   \n",
       "4     75    Three Olives Tomato Vodka  14.99  750mL    750               1   \n",
       "\n",
       "   PurchasePrice  VendorNumber                   VendorName  \n",
       "0           9.28          8320  SHAW ROSS INT L IMP LTD      \n",
       "1          28.67          1128  BROWN-FORMAN CORP            \n",
       "2          30.46          1128  BROWN-FORMAN CORP            \n",
       "3          26.11          9165  ULTRA BEVERAGE COMPANY LLP   \n",
       "4          10.94          7245  PROXIMO SPIRITS INC.         "
      ]
     },
     "execution_count": 3,
     "metadata": {},
     "output_type": "execute_result"
    }
   ],
   "source": [
    "dfPurchasePrices.head()"
   ]
  },
  {
   "cell_type": "code",
   "execution_count": 4,
   "metadata": {},
   "outputs": [
    {
     "data": {
      "text/plain": [
       "(12261, 9)"
      ]
     },
     "execution_count": 4,
     "metadata": {},
     "output_type": "execute_result"
    }
   ],
   "source": [
    "dfPurchasePrices.shape"
   ]
  },
  {
   "cell_type": "code",
   "execution_count": 5,
   "metadata": {},
   "outputs": [
    {
     "data": {
      "text/plain": [
       "Brand             0\n",
       "Description       1\n",
       "Price             0\n",
       "Size              1\n",
       "Volume            1\n",
       "Classification    0\n",
       "PurchasePrice     0\n",
       "VendorNumber      0\n",
       "VendorName        0\n",
       "dtype: int64"
      ]
     },
     "execution_count": 5,
     "metadata": {},
     "output_type": "execute_result"
    }
   ],
   "source": [
    "dfPurchasePrices.isnull().sum()"
   ]
  },
  {
   "cell_type": "code",
   "execution_count": 6,
   "metadata": {},
   "outputs": [
    {
     "name": "stdout",
     "output_type": "stream",
     "text": [
      "Fila 7915 tiene valores nulos en las columnas: Description, Size, Volume\n"
     ]
    }
   ],
   "source": [
    "# Mostrar las columnas con valores nulos por fila\n",
    "for index, row in dfPurchasePrices.iterrows():\n",
    "    null_columns = row[row.isnull()].index\n",
    "    if len(null_columns) > 0:\n",
    "        print(f\"Fila {index} tiene valores nulos en las columnas: {', '.join(null_columns)}\")"
   ]
  },
  {
   "cell_type": "code",
   "execution_count": 7,
   "metadata": {},
   "outputs": [],
   "source": [
    "# como es solo una fila la elimino\n",
    "dfPurchasePrices = dfPurchasePrices.dropna()"
   ]
  },
  {
   "cell_type": "code",
   "execution_count": 8,
   "metadata": {},
   "outputs": [
    {
     "data": {
      "text/plain": [
       "Brand             0\n",
       "Description       0\n",
       "Price             0\n",
       "Size              0\n",
       "Volume            0\n",
       "Classification    0\n",
       "PurchasePrice     0\n",
       "VendorNumber      0\n",
       "VendorName        0\n",
       "dtype: int64"
      ]
     },
     "execution_count": 8,
     "metadata": {},
     "output_type": "execute_result"
    }
   ],
   "source": [
    "# verifico\n",
    "dfPurchasePrices.isnull().sum()"
   ]
  },
  {
   "cell_type": "code",
   "execution_count": 9,
   "metadata": {},
   "outputs": [
    {
     "data": {
      "text/plain": [
       "(12260, 9)"
      ]
     },
     "execution_count": 9,
     "metadata": {},
     "output_type": "execute_result"
    }
   ],
   "source": [
    "dfPurchasePrices.shape"
   ]
  },
  {
   "cell_type": "code",
   "execution_count": 10,
   "metadata": {},
   "outputs": [
    {
     "name": "stdout",
     "output_type": "stream",
     "text": [
      "Error en la fila 542: could not convert string to float: 'Unknown'\n",
      "Error en la fila 5921: could not convert string to float: 'Unknown'\n",
      "Error en la fila 8795: could not convert string to float: 'Unknown'\n",
      "Error en la fila 10009: could not convert string to float: 'Unknown'\n",
      "Datos importados exitosamente.\n"
     ]
    }
   ],
   "source": [
    "import pandas as pd\n",
    "import pyodbc\n",
    "\n",
    "\n",
    "# Conectar a SQL Server (sin contraseña)\n",
    "conn = pyodbc.connect('DRIVER={SQL Server};'\n",
    "                      'SERVER=MARIUGENIAIT\\SQLEXPRESS;'\n",
    "                      'DATABASE=LiquorDistributorDB;'\n",
    "                      'Trusted_Connection=yes;')  # Usa Trusted_Connection si no tienes usuario/contraseña\n",
    "\n",
    "cursor = conn.cursor()\n",
    "\n",
    "# Insertar los datos en la tabla\n",
    "for index, row in dfPurchasePrices.iterrows():\n",
    "    try:\n",
    "        cursor.execute(\"\"\"\n",
    "            INSERT INTO PurchasePrices (Brand, Description, Price, Size, Volume, Classification, PurchasePrice, VendorNumber, VendorName)\n",
    "            VALUES (?, ?, ?, ?, ?, ?, ?, ?, ?)\n",
    "        \"\"\", \n",
    "        row['Brand'], \n",
    "        row['Description'], \n",
    "        float(row['Price']) if pd.notnull(row['Price']) else None,  # Asegurar que Price sea decimal o NULL\n",
    "        row['Size'], \n",
    "        float(row['Volume']) if pd.notnull(row['Volume']) else None,  # Asegurar que Volume sea decimal o NULL\n",
    "        row['Classification'], \n",
    "        float(row['PurchasePrice']) if pd.notnull(row['PurchasePrice']) else None,  # Asegurar que PurchasePrice sea decimal o NULL\n",
    "        int(row['VendorNumber']) if pd.notnull(row['VendorNumber']) else None,  # Asegurar que VendorNumber sea int o NULL\n",
    "        row['VendorName']\n",
    "        )\n",
    "    except Exception as e:\n",
    "        print(f\"Error en la fila {index}: {e}\")  # Mostrar errores de inserción y continuar con las demás filas\n",
    "\n",
    "# Confirmar los cambios y cerrar la conexión\n",
    "conn.commit()\n",
    "conn.close()\n",
    "\n",
    "print(\"Datos importados exitosamente.\")\n"
   ]
  },
  {
   "cell_type": "markdown",
   "metadata": {},
   "source": [
    "Por el resultado anterior, borré la tabla en sql server. Y ahora reemplazaré Unknown por 0"
   ]
  },
  {
   "cell_type": "code",
   "execution_count": 24,
   "metadata": {},
   "outputs": [],
   "source": [
    "# Reemplazar todos los valores \"Unknown\" por 0 en todo el DataFrame\n",
    "dfPurchasePrices.replace('Unknown', 0, inplace=True)"
   ]
  },
  {
   "cell_type": "code",
   "execution_count": 11,
   "metadata": {},
   "outputs": [
    {
     "name": "stdout",
     "output_type": "stream",
     "text": [
      "       Brand                   Description  Price     Size   Volume  \\\n",
      "542     2993             Angostura Bitters   7.49  Unknown  Unknown   \n",
      "5396   16398  Shane The Unknown Syrah No C  39.99    750mL      750   \n",
      "5921    9908      Tito's Copper Mug 2 Pack  21.01  Unknown  Unknown   \n",
      "8795    8992                      Group 92   1.99  Unknown  Unknown   \n",
      "10009  90590  Overture Champagne 2Glass Pk  19.95  Unknown  Unknown   \n",
      "\n",
      "       Classification  PurchasePrice  VendorNumber  \\\n",
      "542                 1           5.39          5895   \n",
      "5396                2          25.80          7749   \n",
      "5921                1          16.15          4425   \n",
      "8795                1           1.43          1703   \n",
      "10009               2          13.12          4425   \n",
      "\n",
      "                                VendorName  \n",
      "542            Mizkan Americas, Inc.        \n",
      "5396           R.P.IMPORTS INC              \n",
      "5921                 MARTIGNETTI COMPANIES  \n",
      "8795   ALISA CARR BEVERAGES                 \n",
      "10009                MARTIGNETTI COMPANIES  \n"
     ]
    }
   ],
   "source": [
    "# Verificar si \"Unknown\" aparece en alguna celda de cualquier columna\n",
    "mask = dfPurchasePrices.applymap(lambda x: 'Unknown' in str(x))\n",
    "\n",
    "# Ver las filas y columnas donde aparece \"Unknown\"\n",
    "unknown_rows = dfPurchasePrices[mask.any(axis=1)]\n",
    "\n",
    "# Mostrar las filas donde aparece \"Unknown\"\n",
    "print(unknown_rows)"
   ]
  },
  {
   "cell_type": "code",
   "execution_count": 12,
   "metadata": {},
   "outputs": [],
   "source": [
    "# Otra forma de Reemplazar valores no válidos con NaN\n",
    "dfPurchasePrices.replace([\"Unknown\", \"#N/A\", \"NA\"], np.nan, inplace=True)"
   ]
  },
  {
   "cell_type": "code",
   "execution_count": null,
   "metadata": {},
   "outputs": [],
   "source": [
    "# una forma de verificar que en las columnas numericas hay solo numeros:\n",
    "# Convertir columnas a tipos de datos correctos\n",
    "df['Price'] = pd.to_numeric(df['Price'], errors='coerce')  # Convertir a float\n",
    "df['Volume'] = pd.to_numeric(df['Volume'], errors='coerce')\n",
    "df['PurchasePrice'] = pd.to_numeric(df['PurchasePrice'], errors='coerce')\n",
    "df['VendorNumber'] = pd.to_numeric(df['VendorNumber'], errors='coerce', downcast='integer')\n",
    "# errors='coerce' reemplaza valores no convertibles con NaN."
   ]
  },
  {
   "cell_type": "code",
   "execution_count": null,
   "metadata": {},
   "outputs": [],
   "source": [
    "# eliminar filas con valores nulos:\n",
    "df.dropna(subset=['Price', 'PurchasePrice'], inplace=True)  # Eliminar si Price o PurchasePrice son NaN\n",
    "# Reemplazar faltantes con un valor:\n",
    "df['Price'].fillna(0, inplace=True)  # Rellenar NaN con 0\n",
    "df['VendorName'].fillna('Desconocido', inplace=True)  # Rellenar texto faltante"
   ]
  },
  {
   "cell_type": "code",
   "execution_count": 14,
   "metadata": {},
   "outputs": [
    {
     "data": {
      "text/plain": [
       "0"
      ]
     },
     "execution_count": 14,
     "metadata": {},
     "output_type": "execute_result"
    }
   ],
   "source": [
    "duplicados= dfPurchasePrices.duplicated().sum()\n",
    "duplicados"
   ]
  },
  {
   "cell_type": "code",
   "execution_count": null,
   "metadata": {},
   "outputs": [],
   "source": [
    "# eliminar duplicados\n",
    "df.drop_duplicates(inplace=True) "
   ]
  },
  {
   "cell_type": "code",
   "execution_count": null,
   "metadata": {},
   "outputs": [],
   "source": [
    "# validar datos antes de insertarlos:\n",
    "# Filtrar registros con precios negativos o nulos\n",
    "df = df[(df['Price'] > 0) & (df['PurchasePrice'] > 0)]\n",
    "\n",
    "# Filtrar registros con valores inesperados\n",
    "df = df[df['Volume'] <= 10000]  # Volumen no mayor a 10,000 es un ejemplo\n"
   ]
  },
  {
   "cell_type": "code",
   "execution_count": 26,
   "metadata": {},
   "outputs": [
    {
     "name": "stdout",
     "output_type": "stream",
     "text": [
      "Datos importados exitosamente.\n"
     ]
    }
   ],
   "source": [
    "# vuelvo a llenar la tabla\n",
    "import pandas as pd\n",
    "import pyodbc\n",
    "\n",
    "\n",
    "# Conectar a SQL Server (sin contraseña)\n",
    "conn = pyodbc.connect('DRIVER={SQL Server};'\n",
    "                      'SERVER=MARIUGENIAIT\\SQLEXPRESS;'\n",
    "                      'DATABASE=LiquorDistributorDB;'\n",
    "                      'Trusted_Connection=yes;')  # Usa Trusted_Connection si no tienes usuario/contraseña\n",
    "\n",
    "cursor = conn.cursor()\n",
    "\n",
    "# Insertar los datos en la tabla\n",
    "for index, row in dfPurchasePrices.iterrows():\n",
    "    try:\n",
    "        cursor.execute(\"\"\"\n",
    "            INSERT INTO PurchasePrices (Brand, Description, Price, Size, Volume, Classification, PurchasePrice, VendorNumber, VendorName)\n",
    "            VALUES (?, ?, ?, ?, ?, ?, ?, ?, ?)\n",
    "        \"\"\", \n",
    "        row['Brand'], \n",
    "        row['Description'], \n",
    "        float(row['Price']) if pd.notnull(row['Price']) else None,  # Asegurar que Price sea decimal o NULL\n",
    "        row['Size'], \n",
    "        float(row['Volume']) if pd.notnull(row['Volume']) else None,  # Asegurar que Volume sea decimal o NULL\n",
    "        row['Classification'], \n",
    "        float(row['PurchasePrice']) if pd.notnull(row['PurchasePrice']) else None,  # Asegurar que PurchasePrice sea decimal o NULL\n",
    "        int(row['VendorNumber']) if pd.notnull(row['VendorNumber']) else None,  # Asegurar que VendorNumber sea int o NULL\n",
    "        row['VendorName']\n",
    "        )\n",
    "    except Exception as e:\n",
    "        print(f\"Error en la fila {index}: {e}\")  # Mostrar errores de inserción y continuar con las demás filas\n",
    "\n",
    "# Confirmar los cambios y cerrar la conexión\n",
    "conn.commit()\n",
    "conn.close()\n",
    "\n",
    "print(\"Datos importados exitosamente.\")"
   ]
  },
  {
   "cell_type": "code",
   "execution_count": 27,
   "metadata": {},
   "outputs": [
    {
     "name": "stdout",
     "output_type": "stream",
     "text": [
      "Empty DataFrame\n",
      "Columns: [Brand, Description, Price, Size, Volume, Classification, PurchasePrice, VendorNumber, VendorName]\n",
      "Index: []\n"
     ]
    }
   ],
   "source": [
    "# Verificar si hay tipo de datos diferentes a numeros en las columnas numericas\n",
    "# Especificar las columnas que deseas verificar\n",
    "columns_to_check = ['Price', 'PurchasePrice', 'Volume', 'VendorNumber']  # Ejemplo de columnas\n",
    "\n",
    "# Verificar si hay valores no numéricos en las columnas especificadas\n",
    "invalid_rows = dfPurchasePrices[~dfPurchasePrices[columns_to_check].apply(pd.to_numeric, errors='coerce').notnull().all(axis=1)]\n",
    "\n",
    "# Mostrar las filas con datos incorrectos en alguna de las columnas\n",
    "print(invalid_rows)"
   ]
  },
  {
   "cell_type": "markdown",
   "metadata": {},
   "source": [
    "CONTINUAR LLENANDO LAS OTRAS TABLAS"
   ]
  }
 ],
 "metadata": {
  "kernelspec": {
   "display_name": "Python 3",
   "language": "python",
   "name": "python3"
  },
  "language_info": {
   "codemirror_mode": {
    "name": "ipython",
    "version": 3
   },
   "file_extension": ".py",
   "mimetype": "text/x-python",
   "name": "python",
   "nbconvert_exporter": "python",
   "pygments_lexer": "ipython3",
   "version": "3.11.9"
  }
 },
 "nbformat": 4,
 "nbformat_minor": 2
}
